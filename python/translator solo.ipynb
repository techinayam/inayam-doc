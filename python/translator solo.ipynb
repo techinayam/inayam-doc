{
 "cells": [
  {
   "cell_type": "code",
   "execution_count": 2,
   "metadata": {},
   "outputs": [],
   "source": [
    "import os\n",
    "import json\n",
    "from googletrans import Translator \n",
    "\n",
    "def translate_json_files(input_folder, output_folder, target_language):\n",
    "    os.makedirs(output_folder, exist_ok=True)\n",
    "    translator = Translator()\n",
    "    def translate_text(text, filename,  chunk_size = 4000):\n",
    "        try:\n",
    "            # translated = translator.translate(text, dest=target_language)\n",
    "            # return translated.text\n",
    "            chunks = [text[i:i+chunk_size] for i in range(0, len(text), chunk_size)]\n",
    "            translated_chunks = [translator.translate(chunk, dest=target_language).text for chunk in chunks]\n",
    "            return \" \".join(translated_chunks)\n",
    "        except Exception as e:\n",
    "            print(f\"Error translating '{target_language}' '{filename}': {e}\")\n",
    "\n",
    "    def translate_file(filename):\n",
    "        input_path = os.path.join(input_folder, filename)\n",
    "        output_path = os.path.join(output_folder, filename)\n",
    "        with open(input_path, 'r', encoding='utf-8') as f:\n",
    "            data = f.read()\n",
    "        print(f\"Translating {filename}\")\n",
    "        translated_data = translate_text(data, filename)\n",
    "        with open(output_path, 'w', encoding='utf-8') as f:\n",
    "            f.write(translated_data)\n",
    "        print(f\"{filename}Translated and saved: {output_path}\")\n",
    "\n",
    "    for filename in os.listdir(input_folder):\n",
    "        if filename.endswith(\".md\"):\n",
    "            translate_file(filename)\n",
    "\n",
    "\n",
    "\n"
   ]
  },
  {
   "cell_type": "code",
   "execution_count": 4,
   "metadata": {},
   "outputs": [
    {
     "name": "stdout",
     "output_type": "stream",
     "text": [
      "Translating calculator-stock-split.md\n",
      "calculator-stock-split.mdTranslated and saved: /Users/rakesh.c/rakesh/my/am/inayam/inayam-doc/calculators/it/calculator-stock-split.md\n",
      "Translating calculator-fd.md\n",
      "calculator-fd.mdTranslated and saved: /Users/rakesh.c/rakesh/my/am/inayam/inayam-doc/calculators/it/calculator-fd.md\n",
      "Translating calculator-NPS.md\n",
      "calculator-NPS.mdTranslated and saved: /Users/rakesh.c/rakesh/my/am/inayam/inayam-doc/calculators/it/calculator-NPS.md\n",
      "Translating calculator-rd.md\n",
      "calculator-rd.mdTranslated and saved: /Users/rakesh.c/rakesh/my/am/inayam/inayam-doc/calculators/it/calculator-rd.md\n",
      "Translating calculator-rule-of-72.md\n",
      "calculator-rule-of-72.mdTranslated and saved: /Users/rakesh.c/rakesh/my/am/inayam/inayam-doc/calculators/it/calculator-rule-of-72.md\n",
      "Translating calculator-bmi.md\n",
      "calculator-bmi.mdTranslated and saved: /Users/rakesh.c/rakesh/my/am/inayam/inayam-doc/calculators/it/calculator-bmi.md\n",
      "Translating calculator-financial-health-check.md\n",
      "calculator-financial-health-check.mdTranslated and saved: /Users/rakesh.c/rakesh/my/am/inayam/inayam-doc/calculators/it/calculator-financial-health-check.md\n",
      "Translating calculator-emi.md\n",
      "calculator-emi.mdTranslated and saved: /Users/rakesh.c/rakesh/my/am/inayam/inayam-doc/calculators/it/calculator-emi.md\n",
      "Translating days-until-my-birthday.md\n",
      "days-until-my-birthday.mdTranslated and saved: /Users/rakesh.c/rakesh/my/am/inayam/inayam-doc/calculators/it/days-until-my-birthday.md\n",
      "Translating calculators.md\n",
      "calculators.mdTranslated and saved: /Users/rakesh.c/rakesh/my/am/inayam/inayam-doc/calculators/it/calculators.md\n",
      "Translating calculator-simple-interest.md\n",
      "Error translating 'it' 'calculator-simple-interest.md': [Errno 12] Cannot allocate memory\n"
     ]
    },
    {
     "ename": "TypeError",
     "evalue": "write() argument must be str, not None",
     "output_type": "error",
     "traceback": [
      "\u001b[0;31m---------------------------------------------------------------------------\u001b[0m",
      "\u001b[0;31mTypeError\u001b[0m                                 Traceback (most recent call last)",
      "Cell \u001b[0;32mIn[4], line 5\u001b[0m\n\u001b[1;32m      3\u001b[0m output_folder \u001b[38;5;241m=\u001b[39m \u001b[38;5;124m\"\u001b[39m\u001b[38;5;124m/Users/rakesh.c/rakesh/my/am/inayam/inayam-doc/calculators/it\u001b[39m\u001b[38;5;124m\"\u001b[39m\n\u001b[1;32m      4\u001b[0m target_language \u001b[38;5;241m=\u001b[39m \u001b[38;5;124m\"\u001b[39m\u001b[38;5;124mit\u001b[39m\u001b[38;5;124m\"\u001b[39m \n\u001b[0;32m----> 5\u001b[0m \u001b[43mtranslate_json_files\u001b[49m\u001b[43m(\u001b[49m\u001b[43minput_folder\u001b[49m\u001b[43m,\u001b[49m\u001b[43m \u001b[49m\u001b[43moutput_folder\u001b[49m\u001b[43m,\u001b[49m\u001b[43m \u001b[49m\u001b[43mtarget_language\u001b[49m\u001b[43m)\u001b[49m\n",
      "Cell \u001b[0;32mIn[2], line 31\u001b[0m, in \u001b[0;36mtranslate_json_files\u001b[0;34m(input_folder, output_folder, target_language)\u001b[0m\n\u001b[1;32m     29\u001b[0m \u001b[38;5;28;01mfor\u001b[39;00m filename \u001b[38;5;129;01min\u001b[39;00m os\u001b[38;5;241m.\u001b[39mlistdir(input_folder):\n\u001b[1;32m     30\u001b[0m     \u001b[38;5;28;01mif\u001b[39;00m filename\u001b[38;5;241m.\u001b[39mendswith(\u001b[38;5;124m\"\u001b[39m\u001b[38;5;124m.md\u001b[39m\u001b[38;5;124m\"\u001b[39m):\n\u001b[0;32m---> 31\u001b[0m         \u001b[43mtranslate_file\u001b[49m\u001b[43m(\u001b[49m\u001b[43mfilename\u001b[49m\u001b[43m)\u001b[49m\n",
      "Cell \u001b[0;32mIn[2], line 26\u001b[0m, in \u001b[0;36mtranslate_json_files.<locals>.translate_file\u001b[0;34m(filename)\u001b[0m\n\u001b[1;32m     24\u001b[0m translated_data \u001b[38;5;241m=\u001b[39m translate_text(data, filename)\n\u001b[1;32m     25\u001b[0m \u001b[38;5;28;01mwith\u001b[39;00m \u001b[38;5;28mopen\u001b[39m(output_path, \u001b[38;5;124m'\u001b[39m\u001b[38;5;124mw\u001b[39m\u001b[38;5;124m'\u001b[39m, encoding\u001b[38;5;241m=\u001b[39m\u001b[38;5;124m'\u001b[39m\u001b[38;5;124mutf-8\u001b[39m\u001b[38;5;124m'\u001b[39m) \u001b[38;5;28;01mas\u001b[39;00m f:\n\u001b[0;32m---> 26\u001b[0m     \u001b[43mf\u001b[49m\u001b[38;5;241;43m.\u001b[39;49m\u001b[43mwrite\u001b[49m\u001b[43m(\u001b[49m\u001b[43mtranslated_data\u001b[49m\u001b[43m)\u001b[49m\n\u001b[1;32m     27\u001b[0m \u001b[38;5;28mprint\u001b[39m(\u001b[38;5;124mf\u001b[39m\u001b[38;5;124m\"\u001b[39m\u001b[38;5;132;01m{\u001b[39;00mfilename\u001b[38;5;132;01m}\u001b[39;00m\u001b[38;5;124mTranslated and saved: \u001b[39m\u001b[38;5;132;01m{\u001b[39;00moutput_path\u001b[38;5;132;01m}\u001b[39;00m\u001b[38;5;124m\"\u001b[39m)\n",
      "\u001b[0;31mTypeError\u001b[0m: write() argument must be str, not None"
     ]
    }
   ],
   "source": [
    "\n",
    "# Single   usage\n",
    "input_folder = \"/Users/rakesh.c/rakesh/my/am/inayam/inayam-doc/calculators/en\"\n",
    "output_folder = \"/Users/rakesh.c/rakesh/my/am/inayam/inayam-doc/calculators/it\"\n",
    "target_language = \"it\" \n",
    "translate_json_files(input_folder, output_folder, target_language)"
   ]
  },
  {
   "cell_type": "code",
   "execution_count": 3,
   "metadata": {},
   "outputs": [
    {
     "name": "stdout",
     "output_type": "stream",
     "text": [
      "started  it\n",
      "Translating calculator-stock-split.md\n",
      "calculator-stock-split.mdTranslated and saved: /Users/rakesh.c/rakesh/my/am/inayam/inayam-doc/calculators/it/calculator-stock-split.md\n",
      "Translating calculator-fd.md\n",
      "calculator-fd.mdTranslated and saved: /Users/rakesh.c/rakesh/my/am/inayam/inayam-doc/calculators/it/calculator-fd.md\n",
      "Translating calculator-NPS.md\n",
      "Error translating 'it' 'calculator-NPS.md': [Errno 12] Cannot allocate memory\n"
     ]
    },
    {
     "ename": "TypeError",
     "evalue": "write() argument must be str, not None",
     "output_type": "error",
     "traceback": [
      "\u001b[0;31m---------------------------------------------------------------------------\u001b[0m",
      "\u001b[0;31mTypeError\u001b[0m                                 Traceback (most recent call last)",
      "Cell \u001b[0;32mIn[3], line 11\u001b[0m\n\u001b[1;32m      9\u001b[0m output_folder \u001b[38;5;241m=\u001b[39m os\u001b[38;5;241m.\u001b[39mpath\u001b[38;5;241m.\u001b[39mjoin(base_folder, locale)\n\u001b[1;32m     10\u001b[0m target_language \u001b[38;5;241m=\u001b[39m locale\n\u001b[0;32m---> 11\u001b[0m \u001b[43mtranslate_json_files\u001b[49m\u001b[43m(\u001b[49m\u001b[43minput_folder\u001b[49m\u001b[43m,\u001b[49m\u001b[43m \u001b[49m\u001b[43moutput_folder\u001b[49m\u001b[43m,\u001b[49m\u001b[43m \u001b[49m\u001b[43mtarget_language\u001b[49m\u001b[43m)\u001b[49m\n\u001b[1;32m     12\u001b[0m \u001b[38;5;28mprint\u001b[39m(\u001b[38;5;124m'\u001b[39m\u001b[38;5;124mstarted \u001b[39m\u001b[38;5;124m'\u001b[39m, locale)\n",
      "Cell \u001b[0;32mIn[2], line 31\u001b[0m, in \u001b[0;36mtranslate_json_files\u001b[0;34m(input_folder, output_folder, target_language)\u001b[0m\n\u001b[1;32m     29\u001b[0m \u001b[38;5;28;01mfor\u001b[39;00m filename \u001b[38;5;129;01min\u001b[39;00m os\u001b[38;5;241m.\u001b[39mlistdir(input_folder):\n\u001b[1;32m     30\u001b[0m     \u001b[38;5;28;01mif\u001b[39;00m filename\u001b[38;5;241m.\u001b[39mendswith(\u001b[38;5;124m\"\u001b[39m\u001b[38;5;124m.md\u001b[39m\u001b[38;5;124m\"\u001b[39m):\n\u001b[0;32m---> 31\u001b[0m         \u001b[43mtranslate_file\u001b[49m\u001b[43m(\u001b[49m\u001b[43mfilename\u001b[49m\u001b[43m)\u001b[49m\n",
      "Cell \u001b[0;32mIn[2], line 26\u001b[0m, in \u001b[0;36mtranslate_json_files.<locals>.translate_file\u001b[0;34m(filename)\u001b[0m\n\u001b[1;32m     24\u001b[0m translated_data \u001b[38;5;241m=\u001b[39m translate_text(data, filename)\n\u001b[1;32m     25\u001b[0m \u001b[38;5;28;01mwith\u001b[39;00m \u001b[38;5;28mopen\u001b[39m(output_path, \u001b[38;5;124m'\u001b[39m\u001b[38;5;124mw\u001b[39m\u001b[38;5;124m'\u001b[39m, encoding\u001b[38;5;241m=\u001b[39m\u001b[38;5;124m'\u001b[39m\u001b[38;5;124mutf-8\u001b[39m\u001b[38;5;124m'\u001b[39m) \u001b[38;5;28;01mas\u001b[39;00m f:\n\u001b[0;32m---> 26\u001b[0m     \u001b[43mf\u001b[49m\u001b[38;5;241;43m.\u001b[39;49m\u001b[43mwrite\u001b[49m\u001b[43m(\u001b[49m\u001b[43mtranslated_data\u001b[49m\u001b[43m)\u001b[49m\n\u001b[1;32m     27\u001b[0m \u001b[38;5;28mprint\u001b[39m(\u001b[38;5;124mf\u001b[39m\u001b[38;5;124m\"\u001b[39m\u001b[38;5;132;01m{\u001b[39;00mfilename\u001b[38;5;132;01m}\u001b[39;00m\u001b[38;5;124mTranslated and saved: \u001b[39m\u001b[38;5;132;01m{\u001b[39;00moutput_path\u001b[38;5;132;01m}\u001b[39;00m\u001b[38;5;124m\"\u001b[39m)\n",
      "\u001b[0;31mTypeError\u001b[0m: write() argument must be str, not None"
     ]
    }
   ],
   "source": [
    "#Bulk Usage\n",
    "import os\n",
    "locales = ['ta', 'hi', 'es', 'de', 'ru', 'ja', 'fr', 'pt', 'zh', 'ar', 'it', 'ko']\n",
    "locales = ['it', 'ko']\n",
    "base_folder = \"/Users/rakesh.c/rakesh/my/am/inayam/inayam-doc/calculators\"\n",
    "for locale in locales:\n",
    "    print('started ', locale)\n",
    "    input_folder = os.path.join(base_folder, 'en')\n",
    "    output_folder = os.path.join(base_folder, locale)\n",
    "    target_language = locale\n",
    "    translate_json_files(input_folder, output_folder, target_language)\n",
    "    print('started ', locale)\n",
    "\n"
   ]
  }
 ],
 "metadata": {
  "kernelspec": {
   "display_name": "inayam",
   "language": "python",
   "name": "python3"
  },
  "language_info": {
   "codemirror_mode": {
    "name": "ipython",
    "version": 3
   },
   "file_extension": ".py",
   "mimetype": "text/x-python",
   "name": "python",
   "nbconvert_exporter": "python",
   "pygments_lexer": "ipython3",
   "version": "3.10.16"
  }
 },
 "nbformat": 4,
 "nbformat_minor": 2
}
